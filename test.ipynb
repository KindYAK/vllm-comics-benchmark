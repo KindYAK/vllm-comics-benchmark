{
 "cells": [
  {
   "cell_type": "code",
   "id": "initial_id",
   "metadata": {
    "collapsed": true,
    "ExecuteTime": {
     "end_time": "2024-09-16T14:47:44.604331Z",
     "start_time": "2024-09-16T14:47:42.515004Z"
    }
   },
   "source": [
    "import asyncio\n",
    "import os\n",
    "import random\n",
    "\n",
    "from utils_experiment import run_reorder_task\n",
    "from utils_metrics import lcs_length, bubble_sort_distance, combined_normalized_loss\n",
    "%reload_ext autoreload\n",
    "%autoreload 2\n",
    "%autoreload now\n",
    "\n",
    "import logging\n",
    "\n",
    "from semaphore import set_semaphore\n",
    "from utils_openai import call_gpt4\n",
    "\n",
    "logging.basicConfig(level=logging.INFO, format='%(asctime)s - %(levelname)s - %(message)s')\n",
    "\n",
    "from dotenv import load_dotenv\n",
    "from openai import AsyncOpenAI\n",
    "\n",
    "load_dotenv()"
   ],
   "outputs": [
    {
     "data": {
      "text/plain": [
       "True"
      ]
     },
     "execution_count": 118,
     "metadata": {},
     "output_type": "execute_result"
    }
   ],
   "execution_count": 118
  },
  {
   "metadata": {
    "ExecuteTime": {
     "end_time": "2024-09-16T14:38:22.953737Z",
     "start_time": "2024-09-16T14:38:22.467984Z"
    }
   },
   "cell_type": "code",
   "source": "set_semaphore(\"gpt-4\", 100)",
   "id": "b577547e516cfc41",
   "outputs": [],
   "execution_count": 83
  },
  {
   "metadata": {
    "ExecuteTime": {
     "end_time": "2024-09-16T14:38:23.558753Z",
     "start_time": "2024-09-16T14:38:22.954754Z"
    }
   },
   "cell_type": "code",
   "source": "client = AsyncOpenAI()",
   "id": "a5c99c847108d759",
   "outputs": [],
   "execution_count": 84
  },
  {
   "metadata": {
    "ExecuteTime": {
     "end_time": "2024-09-16T14:43:15.135287Z",
     "start_time": "2024-09-16T14:43:15.131378Z"
    }
   },
   "cell_type": "code",
   "source": "",
   "id": "8f425c0cc85f89ed",
   "outputs": [],
   "execution_count": 103
  },
  {
   "metadata": {
    "ExecuteTime": {
     "end_time": "2024-09-16T14:38:24.809681Z",
     "start_time": "2024-09-16T14:38:24.271098Z"
    }
   },
   "cell_type": "code",
   "source": "comics = os.listdir(\"data/xkcd\")",
   "id": "33d57d7d1dfa124f",
   "outputs": [],
   "execution_count": 86
  },
  {
   "metadata": {
    "ExecuteTime": {
     "end_time": "2024-09-16T14:38:27.604874Z",
     "start_time": "2024-09-16T14:38:27.600838Z"
    }
   },
   "cell_type": "code",
   "source": "",
   "id": "614dce01f9e30cb1",
   "outputs": [],
   "execution_count": 86
  },
  {
   "metadata": {},
   "cell_type": "code",
   "outputs": [],
   "execution_count": null,
   "source": "",
   "id": "963d7af4d8cca50a"
  },
  {
   "metadata": {
    "ExecuteTime": {
     "end_time": "2024-09-16T14:49:05.805880Z",
     "start_time": "2024-09-16T14:49:04.155924Z"
    }
   },
   "cell_type": "code",
   "source": "comics_sample = random.sample(comics, 10)",
   "id": "efdc98775f6d1c4c",
   "outputs": [],
   "execution_count": 122
  },
  {
   "metadata": {
    "ExecuteTime": {
     "end_time": "2024-09-16T14:49:32.881492Z",
     "start_time": "2024-09-16T14:49:05.811891Z"
    }
   },
   "cell_type": "code",
   "source": [
    "results = await asyncio.gather(\n",
    "    *[\n",
    "        run_reorder_task(\n",
    "            client=client,\n",
    "            panels_path=f\"data/xkcd/{comic}\",\n",
    "            # model_name=\"gpt-4o\",\n",
    "            model_name=\"gpt-4o-mini\",\n",
    "        ) for comic in comics_sample\n",
    "    ] \n",
    ")"
   ],
   "id": "8bc021f31aaad69a",
   "outputs": [
    {
     "name": "stderr",
     "output_type": "stream",
     "text": [
      "2024-09-16 19:49:11,281 - INFO - HTTP Request: POST https://api.openai.com/v1/chat/completions \"HTTP/1.1 200 OK\"\n",
      "2024-09-16 19:49:12,253 - INFO - HTTP Request: POST https://api.openai.com/v1/chat/completions \"HTTP/1.1 200 OK\"\n",
      "2024-09-16 19:49:12,406 - INFO - HTTP Request: POST https://api.openai.com/v1/chat/completions \"HTTP/1.1 200 OK\"\n",
      "2024-09-16 19:49:12,647 - INFO - HTTP Request: POST https://api.openai.com/v1/chat/completions \"HTTP/1.1 200 OK\"\n",
      "2024-09-16 19:49:12,743 - INFO - HTTP Request: POST https://api.openai.com/v1/chat/completions \"HTTP/1.1 200 OK\"\n",
      "2024-09-16 19:49:13,627 - INFO - HTTP Request: POST https://api.openai.com/v1/chat/completions \"HTTP/1.1 200 OK\"\n",
      "2024-09-16 19:49:13,659 - INFO - HTTP Request: POST https://api.openai.com/v1/chat/completions \"HTTP/1.1 200 OK\"\n",
      "2024-09-16 19:49:13,850 - INFO - HTTP Request: POST https://api.openai.com/v1/chat/completions \"HTTP/1.1 200 OK\"\n",
      "2024-09-16 19:49:14,714 - INFO - HTTP Request: POST https://api.openai.com/v1/chat/completions \"HTTP/1.1 200 OK\"\n",
      "2024-09-16 19:49:32,867 - INFO - HTTP Request: POST https://api.openai.com/v1/chat/completions \"HTTP/1.1 200 OK\"\n"
     ]
    }
   ],
   "execution_count": 123
  },
  {
   "metadata": {
    "ExecuteTime": {
     "end_time": "2024-09-16T14:49:32.894157Z",
     "start_time": "2024-09-16T14:49:32.885586Z"
    }
   },
   "cell_type": "code",
   "source": "",
   "id": "3a912fe1456c4447",
   "outputs": [],
   "execution_count": 123
  },
  {
   "metadata": {
    "ExecuteTime": {
     "end_time": "2024-09-16T14:49:35.338521Z",
     "start_time": "2024-09-16T14:49:32.899743Z"
    }
   },
   "cell_type": "code",
   "source": "metrics = [combined_normalized_loss(result[\"correct_order\"], result[\"predicted_order\"]) for result in results]",
   "id": "ff94f8fe9ca2b75a",
   "outputs": [],
   "execution_count": 124
  },
  {
   "metadata": {
    "ExecuteTime": {
     "end_time": "2024-09-16T14:49:37.736414Z",
     "start_time": "2024-09-16T14:49:35.345540Z"
    }
   },
   "cell_type": "code",
   "source": "avg_metric = sum(metrics) / len(metrics)",
   "id": "2794668834791edf",
   "outputs": [],
   "execution_count": 125
  },
  {
   "metadata": {
    "ExecuteTime": {
     "end_time": "2024-09-16T14:49:40.539444Z",
     "start_time": "2024-09-16T14:49:37.740431Z"
    }
   },
   "cell_type": "code",
   "source": "avg_metric",
   "id": "fe080418ec38c53d",
   "outputs": [
    {
     "data": {
      "text/plain": [
       "0.3991666666666666"
      ]
     },
     "execution_count": 126,
     "metadata": {},
     "output_type": "execute_result"
    }
   ],
   "execution_count": 126
  },
  {
   "metadata": {
    "ExecuteTime": {
     "end_time": "2024-09-16T14:49:43.505498Z",
     "start_time": "2024-09-16T14:49:40.547692Z"
    }
   },
   "cell_type": "code",
   "source": "results[9]",
   "id": "13e12a223ec537fb",
   "outputs": [
    {
     "data": {
      "text/plain": [
       "{'panels_path': 'data/xkcd/1090-FormalLanguages.jpg',\n",
       " 'imgs_original': ['panel_1.jpg', 'panel_0.jpg', 'panel_2.jpg'],\n",
       " 'imgs_predicted': ['panel_0.jpg', 'panel_1.jpg', 'panel_2.jpg'],\n",
       " 'correct_order': [1, 0, 2],\n",
       " 'predicted_order': [1, 0, 2],\n",
       " 'reasoning': '1. In the first panel, a stick figure enthusiastically shouts \"GRAMMAR!\" while another figure looks on, suggesting a focus on language or grammar-related content.  \\n2. The second panel shows a chaotic scene where the same stick figure crashes into the setting of a symposium, indicating a sudden disruption.  \\n3. The third panel depicts the second figure still at the podium, seemingly unfazed, while the first figure runs away, suggesting a humorous or absurd reaction to the situation.  \\n\\nThe overall narrative seems to revolve around a grammar enthusiast who disrupts a formal event (the symposium) with their excitement about grammar. The first panel sets the stage for the enthusiasm, the second panel introduces chaos with the crash, and the third panel shows the aftermath, where the enthusiast has run off, leaving the other figure bewildered. This sequence creates a comedic effect, highlighting the absurdity of the situation.\\n\\nThe correct order of the panels is'}"
      ]
     },
     "execution_count": 127,
     "metadata": {},
     "output_type": "execute_result"
    }
   ],
   "execution_count": 127
  },
  {
   "metadata": {
    "ExecuteTime": {
     "end_time": "2024-09-16T14:49:43.518677Z",
     "start_time": "2024-09-16T14:49:43.510509Z"
    }
   },
   "cell_type": "code",
   "source": "",
   "id": "1feb59ddc6f3a3d4",
   "outputs": [],
   "execution_count": 127
  },
  {
   "metadata": {},
   "cell_type": "code",
   "outputs": [],
   "execution_count": null,
   "source": "",
   "id": "9348056bacfa1d5f"
  },
  {
   "metadata": {},
   "cell_type": "code",
   "outputs": [],
   "execution_count": null,
   "source": "",
   "id": "dc3fb4243130c503"
  },
  {
   "metadata": {
    "ExecuteTime": {
     "end_time": "2024-09-16T14:42:51.067742Z",
     "start_time": "2024-09-16T14:42:43.896367Z"
    }
   },
   "cell_type": "code",
   "source": [
    "result = await run_reorder_task(\n",
    "    client=client,\n",
    "    # panels_path=\"data/xkcd/13-Canyon.jpeg\",\n",
    "    # panels_path=\"data/xkcd/69-PillowTalk.jpeg\",\n",
    "    panels_path=\"data/xkcd/73-Zeppelin.jpeg\",\n",
    "    model_name=\"gpt-4o-mini\",\n",
    ")"
   ],
   "id": "2bdd8cf460353e90",
   "outputs": [
    {
     "name": "stderr",
     "output_type": "stream",
     "text": [
      "2024-09-16 19:42:51,059 - INFO - HTTP Request: POST https://api.openai.com/v1/chat/completions \"HTTP/1.1 200 OK\"\n"
     ]
    }
   ],
   "execution_count": 100
  },
  {
   "metadata": {
    "ExecuteTime": {
     "end_time": "2024-09-16T14:42:51.370118Z",
     "start_time": "2024-09-16T14:42:51.070757Z"
    }
   },
   "cell_type": "code",
   "source": "result",
   "id": "5ac114e49779844e",
   "outputs": [
    {
     "data": {
      "text/plain": [
       "{'panels_path': 'data/xkcd/73-Zeppelin.jpeg',\n",
       " 'imgs_original': ['panel_2.jpg', 'panel_1.jpg', 'panel_3.jpg', 'panel_0.jpg'],\n",
       " 'imgs_predicted': ['panel_2.jpg',\n",
       "  'panel_0.jpg',\n",
       "  'panel_1.jpg',\n",
       "  'panel_3.jpg'],\n",
       " 'correct_order': [3, 1, 0, 2],\n",
       " 'predicted_order': [0, 3, 1, 2],\n",
       " 'reasoning': '1. In the first panel, two stick figures are walking together, suggesting a casual conversation or outing.  \\n2. The second panel shows a close-up of a watch with \"Zeppelin!\" written on it, indicating a specific time or event related to a zeppelin.  \\n3. The third panel depicts a zeppelin in the sky, with the two stick figures looking up at it, suggesting they are excited or surprised by its presence.  \\n4. The fourth panel features one stick figure asking the other, \"What time is it?\" which implies they are checking the time in relation to the zeppelin.  \\n\\nThe overall narrative seems to follow two friends who are out together when they notice a zeppelin in the sky. They start by walking and chatting (panel 1), then one of them checks their watch, which has a special note about the zeppelin (panel 2). This leads to their curiosity about the time (panel 4), just before they spot the zeppelin overhead (panel 3). The sequence flows from their interaction to the discovery of the zeppelin, creating a cohesive story.  \\n\\nThe correct order of the panels is'}"
      ]
     },
     "execution_count": 101,
     "metadata": {},
     "output_type": "execute_result"
    }
   ],
   "execution_count": 101
  },
  {
   "metadata": {
    "ExecuteTime": {
     "end_time": "2024-09-16T14:42:51.666082Z",
     "start_time": "2024-09-16T14:42:51.372126Z"
    }
   },
   "cell_type": "code",
   "source": "print(result['reasoning'])",
   "id": "2d916a3451e93c8b",
   "outputs": [
    {
     "name": "stdout",
     "output_type": "stream",
     "text": [
      "1. In the first panel, two stick figures are walking together, suggesting a casual conversation or outing.  \n",
      "2. The second panel shows a close-up of a watch with \"Zeppelin!\" written on it, indicating a specific time or event related to a zeppelin.  \n",
      "3. The third panel depicts a zeppelin in the sky, with the two stick figures looking up at it, suggesting they are excited or surprised by its presence.  \n",
      "4. The fourth panel features one stick figure asking the other, \"What time is it?\" which implies they are checking the time in relation to the zeppelin.  \n",
      "\n",
      "The overall narrative seems to follow two friends who are out together when they notice a zeppelin in the sky. They start by walking and chatting (panel 1), then one of them checks their watch, which has a special note about the zeppelin (panel 2). This leads to their curiosity about the time (panel 4), just before they spot the zeppelin overhead (panel 3). The sequence flows from their interaction to the discovery of the zeppelin, creating a cohesive story.  \n",
      "\n",
      "The correct order of the panels is\n"
     ]
    }
   ],
   "execution_count": 102
  },
  {
   "metadata": {
    "ExecuteTime": {
     "end_time": "2024-09-16T14:44:41.399515Z",
     "start_time": "2024-09-16T14:44:40.833151Z"
    }
   },
   "cell_type": "code",
   "source": [
    "combined_normalized_loss(\n",
    "    result[\"correct_order\"],\n",
    "    result[\"predicted_order\"],\n",
    ")"
   ],
   "id": "1fcde55606a18028",
   "outputs": [
    {
     "data": {
      "text/plain": [
       "0.29166666666666663"
      ]
     },
     "execution_count": 108,
     "metadata": {},
     "output_type": "execute_result"
    }
   ],
   "execution_count": 108
  },
  {
   "metadata": {},
   "cell_type": "code",
   "outputs": [],
   "execution_count": null,
   "source": "",
   "id": "3e8c7499579fafd2"
  },
  {
   "metadata": {},
   "cell_type": "code",
   "outputs": [],
   "execution_count": null,
   "source": "",
   "id": "7e1da133b52963f1"
  },
  {
   "metadata": {},
   "cell_type": "code",
   "outputs": [],
   "execution_count": null,
   "source": "",
   "id": "3a317873ba8d163c"
  },
  {
   "metadata": {},
   "cell_type": "code",
   "outputs": [],
   "execution_count": null,
   "source": "",
   "id": "e6ae2525bb6e1f16"
  },
  {
   "metadata": {},
   "cell_type": "code",
   "outputs": [],
   "execution_count": null,
   "source": "",
   "id": "a1a205127fb59ca4"
  },
  {
   "metadata": {
    "ExecuteTime": {
     "end_time": "2024-09-16T14:33:31.919449Z",
     "start_time": "2024-09-16T14:33:31.637798Z"
    }
   },
   "cell_type": "code",
   "source": [
    "bubble_sort_distance(\n",
    "    [5, 0, 3, 1, 2, 6, 4],\n",
    "    [5, 4, 6, 0, 3, 1, 2],\n",
    ")"
   ],
   "id": "26267299d0995a23",
   "outputs": [
    {
     "data": {
      "text/plain": [
       "9"
      ]
     },
     "execution_count": 69,
     "metadata": {},
     "output_type": "execute_result"
    }
   ],
   "execution_count": 69
  },
  {
   "metadata": {
    "ExecuteTime": {
     "end_time": "2024-09-16T14:35:30.413561Z",
     "start_time": "2024-09-16T14:35:30.132879Z"
    }
   },
   "cell_type": "code",
   "source": [
    "combined_normalized_loss(\n",
    "    [5, 0, 3, 1, 2, 6, 4],\n",
    "    [5, 0, 3, 1, 2, 4, 6],\n",
    ")"
   ],
   "id": "f8a43ce633499675",
   "outputs": [
    {
     "data": {
      "text/plain": [
       "0.09523809523809526"
      ]
     },
     "execution_count": 80,
     "metadata": {},
     "output_type": "execute_result"
    }
   ],
   "execution_count": 80
  },
  {
   "metadata": {
    "ExecuteTime": {
     "end_time": "2024-09-16T14:35:06.019556Z",
     "start_time": "2024-09-16T14:35:05.730052Z"
    }
   },
   "cell_type": "code",
   "source": [
    "lcs_length(\n",
    "    [5, 0, 3, 1, 2, 6, 4],\n",
    "    [5, 0, 3, 1, 2, 6, 4],\n",
    ")"
   ],
   "id": "48d96968b1f258a",
   "outputs": [
    {
     "data": {
      "text/plain": [
       "7"
      ]
     },
     "execution_count": 77,
     "metadata": {},
     "output_type": "execute_result"
    }
   ],
   "execution_count": 77
  },
  {
   "metadata": {},
   "cell_type": "code",
   "outputs": [],
   "execution_count": null,
   "source": "",
   "id": "5a489b2d6af95cb0"
  },
  {
   "metadata": {
    "ExecuteTime": {
     "end_time": "2024-09-16T12:20:34.167127Z",
     "start_time": "2024-09-16T12:20:34.111931Z"
    }
   },
   "cell_type": "code",
   "source": [
    "# TODO - think of metric\n",
    "# https://chatgpt.com/c/66e1daab-cce4-8008-abb2-65fb209c3328"
   ],
   "id": "4b5e8054f96f7bde",
   "outputs": [],
   "execution_count": 8
  },
  {
   "metadata": {},
   "cell_type": "code",
   "outputs": [],
   "execution_count": null,
   "source": "",
   "id": "2821c9042487e006"
  },
  {
   "metadata": {
    "ExecuteTime": {
     "end_time": "2024-09-16T12:20:34.172418Z",
     "start_time": "2024-09-16T12:20:34.169135Z"
    }
   },
   "cell_type": "code",
   "source": "",
   "id": "debde715ca98db19",
   "outputs": [],
   "execution_count": 8
  },
  {
   "metadata": {},
   "cell_type": "code",
   "outputs": [],
   "execution_count": null,
   "source": "",
   "id": "95bf010187a10086"
  },
  {
   "metadata": {},
   "cell_type": "code",
   "outputs": [],
   "execution_count": null,
   "source": "",
   "id": "a046302ac33295db"
  },
  {
   "metadata": {},
   "cell_type": "code",
   "outputs": [],
   "execution_count": null,
   "source": "",
   "id": "32c067ef5722437e"
  },
  {
   "metadata": {},
   "cell_type": "code",
   "outputs": [],
   "execution_count": null,
   "source": "",
   "id": "423abd61b3d2dd5f"
  },
  {
   "metadata": {},
   "cell_type": "code",
   "outputs": [],
   "execution_count": null,
   "source": "",
   "id": "a6f643183c499b19"
  },
  {
   "metadata": {},
   "cell_type": "code",
   "outputs": [],
   "execution_count": null,
   "source": "",
   "id": "a111b4308e757933"
  },
  {
   "metadata": {},
   "cell_type": "code",
   "outputs": [],
   "execution_count": null,
   "source": "",
   "id": "84c3fa2eec6da7a8"
  },
  {
   "metadata": {},
   "cell_type": "code",
   "outputs": [],
   "execution_count": null,
   "source": "",
   "id": "5ace1a3ae7aa4645"
  },
  {
   "metadata": {
    "ExecuteTime": {
     "end_time": "2024-09-11T17:49:34.893958Z",
     "start_time": "2024-09-11T17:49:27.447868Z"
    }
   },
   "cell_type": "code",
   "source": [
    "response = await call_gpt4(\n",
    "    client,\n",
    "    \"Explain what is in those pictures\",\n",
    "    imgs_paths=[\n",
    "        \"data/xkcd/13-Canyon.jpeg/panel_0.jpg\",\n",
    "        \"data/xkcd/13-Canyon.jpeg/panel_1.jpg\",\n",
    "        \"data/xkcd/13-Canyon.jpeg/panel_2.jpg\",\n",
    "        \"data/xkcd/13-Canyon.jpeg/panel_3.jpg\",\n",
    "        \"data/xkcd/13-Canyon.jpeg/panel_4.jpg\",\n",
    "        \"data/xkcd/13-Canyon.jpeg/panel_5.jpg\",\n",
    "        \"data/xkcd/13-Canyon.jpeg/panel_6.jpg\",\n",
    "    ]\n",
    ")"
   ],
   "id": "e9d03b8674cb3eba",
   "outputs": [
    {
     "name": "stderr",
     "output_type": "stream",
     "text": [
      "2024-09-11 22:49:34,885 - INFO - HTTP Request: POST https://api.openai.com/v1/chat/completions \"HTTP/1.1 200 OK\"\n"
     ]
    }
   ],
   "execution_count": 4
  },
  {
   "metadata": {
    "ExecuteTime": {
     "end_time": "2024-08-31T13:15:37.934921Z",
     "start_time": "2024-08-31T13:15:37.809552Z"
    }
   },
   "cell_type": "code",
   "source": "response",
   "id": "cffd694285143bc6",
   "outputs": [
    {
     "data": {
      "text/plain": [
       "'These images appear to be a series of comic strips featuring stick figures, likely from a webcomic. Here\\'s a brief explanation of each:\\n\\n1. **First Image**: One stick figure asks another, \"What time is it?\" This sets up a conversation about time.\\n\\n2. **Second Image**: The second stick figure points to a line, possibly representing time or a timeline, indicating a moment or event.\\n\\n3. **Third Image**: The first stick figure responds with \"Now,\" emphasizing the present moment in relation to time.\\n\\n4. **Fourth Image**: A more abstract scene shows a vast landscape with a canyon and celestial bodies in the sky, possibly representing a metaphorical or philosophical concept about time or existence.\\n\\n5. **Fifth Image**: The first stick figure comments that the previous answer was \"pretty boring,\" suggesting a desire for a more engaging discussion.\\n\\n6. **Sixth Image**: The second stick figure simply replies, \"Is not,\" indicating a playful disagreement.\\n\\n7. **Seventh Image**: The first stick figure asserts that the answer is \"the least boring answer imaginable,\" suggesting that the concept of time is, in fact, fascinating.\\n\\nOverall, the comic seems to explore the nature of time and the subjective experience of discussing it, blending humor with philosophical themes.'"
      ]
     },
     "execution_count": 7,
     "metadata": {},
     "output_type": "execute_result"
    }
   ],
   "execution_count": 7
  },
  {
   "metadata": {
    "ExecuteTime": {
     "end_time": "2024-08-31T13:15:37.941470Z",
     "start_time": "2024-08-31T13:15:37.936930Z"
    }
   },
   "cell_type": "code",
   "source": "",
   "id": "1d8c855d53876bbc",
   "outputs": [],
   "execution_count": 7
  },
  {
   "metadata": {},
   "cell_type": "code",
   "source": "",
   "id": "64e3320a95dc7931",
   "outputs": [],
   "execution_count": null
  },
  {
   "metadata": {},
   "cell_type": "code",
   "source": "",
   "id": "e27fd38f732758bb",
   "outputs": [],
   "execution_count": null
  },
  {
   "metadata": {},
   "cell_type": "code",
   "outputs": [],
   "execution_count": null,
   "source": "",
   "id": "fea4fa9e2c704c19"
  }
 ],
 "metadata": {
  "kernelspec": {
   "display_name": "Python 3",
   "language": "python",
   "name": "python3"
  },
  "language_info": {
   "codemirror_mode": {
    "name": "ipython",
    "version": 2
   },
   "file_extension": ".py",
   "mimetype": "text/x-python",
   "name": "python",
   "nbconvert_exporter": "python",
   "pygments_lexer": "ipython2",
   "version": "2.7.6"
  }
 },
 "nbformat": 4,
 "nbformat_minor": 5
}
