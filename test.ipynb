{
 "cells": [
  {
   "cell_type": "code",
   "id": "initial_id",
   "metadata": {
    "collapsed": true
   },
   "source": [
    "%reload_ext autoreload\n",
    "%autoreload 2\n",
    "%autoreload now\n",
    "\n",
    "import asyncio\n",
    "import json\n",
    "import logging\n",
    "import os\n",
    "import random\n",
    "\n",
    "from dotenv import load_dotenv\n",
    "from openai import AsyncOpenAI\n",
    "\n",
    "from semaphore import set_semaphore\n",
    "from utils_experiment import run_reorder_task\n",
    "from utils_metrics import lcs_length, bubble_sort_distance, combined_normalized_loss\n",
    "from utils_openai import call_gpt4\n",
    "\n",
    "logging.basicConfig(level=logging.INFO, format='%(asctime)s - %(levelname)s - %(message)s')\n",
    "\n",
    "load_dotenv()"
   ],
   "outputs": [],
   "execution_count": null
  },
  {
   "metadata": {},
   "cell_type": "code",
   "source": "set_semaphore(\"gpt-4\", 100)",
   "id": "b577547e516cfc41",
   "outputs": [],
   "execution_count": null
  },
  {
   "metadata": {},
   "cell_type": "code",
   "source": "client = AsyncOpenAI()",
   "id": "a5c99c847108d759",
   "outputs": [],
   "execution_count": null
  },
  {
   "metadata": {},
   "cell_type": "code",
   "source": "",
   "id": "8f425c0cc85f89ed",
   "outputs": [],
   "execution_count": null
  },
  {
   "metadata": {},
   "cell_type": "code",
   "source": "comics = os.listdir(\"data/xkcd\")",
   "id": "33d57d7d1dfa124f",
   "outputs": [],
   "execution_count": null
  },
  {
   "metadata": {},
   "cell_type": "code",
   "source": "len(comics)",
   "id": "963d7af4d8cca50a",
   "outputs": [],
   "execution_count": null
  },
  {
   "metadata": {},
   "cell_type": "code",
   "source": [
    "random.seed(42)\n",
    "# comics_sample = random.sample(comics, 10)\n",
    "comics_sample = comics"
   ],
   "id": "efdc98775f6d1c4c",
   "outputs": [],
   "execution_count": null
  },
  {
   "metadata": {},
   "cell_type": "code",
   "source": [
    "model_name=\"gpt-4o\"\n",
    "# model_name=\"gpt-4o-mini\"\n",
    "# model_name=\"o1-mini\"\n",
    "\n",
    "tasks = [\n",
    "    run_reorder_task(\n",
    "        client=client,\n",
    "        panels_path=f\"data/xkcd/{comic}\",\n",
    "        model_name=model_name,\n",
    "    ) for comic in comics_sample if f\"data/xkcd/{comic}\" not in panels_done\n",
    "]\n",
    "print(len(tasks), \"tasks\")\n",
    "\n",
    "results = []\n",
    "for coro in asyncio.as_completed(tasks):\n",
    "    result = await coro\n",
    "    results.append(result)\n",
    "\n",
    "    if len(results) % 100 == 0:\n",
    "        print(f\"Processed {len(results)} objects.\")\n",
    "        json.dump(results, open(f\"results-xkcd-{model_name}.json\", \"w\"))\n",
    "\n",
    "json.dump(results, open(f\"results-xkcd-{model_name}.json\", \"w\"))"
   ],
   "id": "8bc021f31aaad69a",
   "outputs": [],
   "execution_count": null
  },
  {
   "metadata": {},
   "cell_type": "code",
   "source": "",
   "id": "8a873c8098eea35",
   "outputs": [],
   "execution_count": null
  },
  {
   "metadata": {},
   "cell_type": "code",
   "source": "len(results), len(comics)",
   "id": "a8a3ce0e5526462a",
   "outputs": [],
   "execution_count": null
  },
  {
   "metadata": {},
   "cell_type": "code",
   "source": "",
   "id": "53fa6e79c8aedd0b",
   "outputs": [],
   "execution_count": null
  },
  {
   "metadata": {},
   "cell_type": "code",
   "source": "len([result for result in results if result['failed']])",
   "id": "1368ad70d93976f7",
   "outputs": [],
   "execution_count": null
  },
  {
   "metadata": {},
   "cell_type": "code",
   "source": [
    "metrics = [combined_normalized_loss(result[\"correct_order\"], result[\"predicted_order\"]) for result in results]\n",
    "# metrics = [combined_normalized_loss(result[\"correct_order\"], random.sample(result[\"correct_order\"], len(result['correct_order']))) for result in results]"
   ],
   "id": "ff94f8fe9ca2b75a",
   "outputs": [],
   "execution_count": null
  },
  {
   "metadata": {},
   "cell_type": "code",
   "source": "avg_metric = sum(metrics) / len(metrics)",
   "id": "2794668834791edf",
   "outputs": [],
   "execution_count": null
  },
  {
   "metadata": {},
   "cell_type": "code",
   "source": "avg_metric",
   "id": "fe080418ec38c53d",
   "outputs": [],
   "execution_count": null
  },
  {
   "metadata": {},
   "cell_type": "code",
   "source": [
    "i = 8\n",
    "results[i], metrics[i]"
   ],
   "id": "13e12a223ec537fb",
   "outputs": [],
   "execution_count": null
  },
  {
   "metadata": {},
   "cell_type": "code",
   "source": "",
   "id": "1feb59ddc6f3a3d4",
   "outputs": [],
   "execution_count": null
  },
  {
   "metadata": {},
   "cell_type": "code",
   "source": "",
   "id": "423abd61b3d2dd5f",
   "outputs": [],
   "execution_count": null
  },
  {
   "metadata": {},
   "cell_type": "code",
   "source": "",
   "id": "a6f643183c499b19",
   "outputs": [],
   "execution_count": null
  },
  {
   "metadata": {},
   "cell_type": "code",
   "source": "",
   "id": "a111b4308e757933",
   "outputs": [],
   "execution_count": null
  },
  {
   "metadata": {},
   "cell_type": "code",
   "source": "",
   "id": "84c3fa2eec6da7a8",
   "outputs": [],
   "execution_count": null
  },
  {
   "metadata": {},
   "cell_type": "code",
   "source": "",
   "id": "5ace1a3ae7aa4645",
   "outputs": [],
   "execution_count": null
  },
  {
   "metadata": {},
   "cell_type": "code",
   "source": [
    "response = await call_gpt4(\n",
    "    client,\n",
    "    \"Explain what is in those pictures\",\n",
    "    imgs_paths=[\n",
    "        \"data/xkcd/13-Canyon.jpeg/panel_0.jpg\",\n",
    "        \"data/xkcd/13-Canyon.jpeg/panel_1.jpg\",\n",
    "        \"data/xkcd/13-Canyon.jpeg/panel_2.jpg\",\n",
    "        \"data/xkcd/13-Canyon.jpeg/panel_3.jpg\",\n",
    "        \"data/xkcd/13-Canyon.jpeg/panel_4.jpg\",\n",
    "        \"data/xkcd/13-Canyon.jpeg/panel_5.jpg\",\n",
    "        \"data/xkcd/13-Canyon.jpeg/panel_6.jpg\",\n",
    "    ]\n",
    ")"
   ],
   "id": "e9d03b8674cb3eba",
   "outputs": [],
   "execution_count": null
  },
  {
   "metadata": {},
   "cell_type": "code",
   "source": "response",
   "id": "cffd694285143bc6",
   "outputs": [],
   "execution_count": null
  },
  {
   "metadata": {},
   "cell_type": "code",
   "source": "",
   "id": "1d8c855d53876bbc",
   "outputs": [],
   "execution_count": null
  },
  {
   "metadata": {},
   "cell_type": "code",
   "source": "",
   "id": "64e3320a95dc7931",
   "outputs": [],
   "execution_count": null
  },
  {
   "metadata": {},
   "cell_type": "code",
   "source": "",
   "id": "e27fd38f732758bb",
   "outputs": [],
   "execution_count": null
  },
  {
   "metadata": {},
   "cell_type": "code",
   "source": "",
   "id": "fea4fa9e2c704c19",
   "outputs": [],
   "execution_count": null
  }
 ],
 "metadata": {
  "kernelspec": {
   "display_name": "Python 3",
   "language": "python",
   "name": "python3"
  },
  "language_info": {
   "codemirror_mode": {
    "name": "ipython",
    "version": 2
   },
   "file_extension": ".py",
   "mimetype": "text/x-python",
   "name": "python",
   "nbconvert_exporter": "python",
   "pygments_lexer": "ipython2",
   "version": "2.7.6"
  }
 },
 "nbformat": 4,
 "nbformat_minor": 5
}
